{
  "nbformat": 4,
  "nbformat_minor": 0,
  "metadata": {
    "colab": {
      "name": "first.ipynb",
      "provenance": [],
      "authorship_tag": "ABX9TyOHhLooP3RLYNaLiyBqdNFb",
      "include_colab_link": true
    },
    "kernelspec": {
      "name": "python3",
      "display_name": "Python 3"
    },
    "language_info": {
      "name": "python"
    }
  },
  "cells": [
    {
      "cell_type": "markdown",
      "metadata": {
        "id": "view-in-github",
        "colab_type": "text"
      },
      "source": [
        "<a href=\"https://colab.research.google.com/github/ayoubarous/newtest/blob/main/first.ipynb\" target=\"_parent\"><img src=\"https://colab.research.google.com/assets/colab-badge.svg\" alt=\"Open In Colab\"/></a>"
      ]
    },
    {
      "cell_type": "code",
      "source": [
        "import tensorflow as tf\n",
        "mnist =tf.keras.datasets.mnist\n",
        "(x_train,y_train),(x_test,y_test)=mnist.load_data()"
      ],
      "metadata": {
        "id": "iYoKy7Qau3Rz"
      },
      "execution_count": 36,
      "outputs": []
    },
    {
      "cell_type": "code",
      "source": [
        "x_test=tf.keras.utils.normalize(x_train,axis=1)\n",
        "x_test=tf.keras.utils.normalize(x_test,axis=1)"
      ],
      "metadata": {
        "id": "HbuOPGf3vQyN"
      },
      "execution_count": 37,
      "outputs": []
    },
    {
      "cell_type": "code",
      "source": [
        "model=tf.keras.models.Sequential()#the sequential model is a feed forward model"
      ],
      "metadata": {
        "id": "kefaEfKtv5wF"
      },
      "execution_count": 38,
      "outputs": []
    },
    {
      "cell_type": "code",
      "source": [
        "model.add(tf.keras.layers.Flatten())#this is the input layer and it is flatten beacause we want a 1 dimentinal array this is kind of reshape"
      ],
      "metadata": {
        "id": "IooYbZDNwV1m"
      },
      "execution_count": 39,
      "outputs": []
    },
    {
      "cell_type": "code",
      "source": [
        "model.add(tf.keras.layers.Dense(128,activation=tf.nn.relu)) #this is our hidden layer wich have 128 neurons and it is a dense layer"
      ],
      "metadata": {
        "id": "FV8ItBn2xg6W"
      },
      "execution_count": 40,
      "outputs": []
    },
    {
      "cell_type": "code",
      "source": [
        "model.add(tf.keras.layers.Dense(128,activation=tf.nn.relu))\n",
        "model.add(tf.keras.layers.Dense(10,activation=tf.nn.softmax))#the output layer have the number of classifications as neurons"
      ],
      "metadata": {
        "id": "Jm59JeEgyCZu"
      },
      "execution_count": 41,
      "outputs": []
    },
    {
      "cell_type": "code",
      "source": [
        "model.compile(optimizer='adam',loss='sparse_categorical_crossentropy',metrics=['accuracy'])#this are some parameter for training the model the newral netwrk try to minimize the error the loss function"
      ],
      "metadata": {
        "id": "UyHtTHZxyhGv"
      },
      "execution_count": 42,
      "outputs": []
    },
    {
      "cell_type": "code",
      "source": [
        "model.fit(x_train,y_train,epochs=8)"
      ],
      "metadata": {
        "colab": {
          "base_uri": "https://localhost:8080/"
        },
        "id": "_ke5Y2UszOq8",
        "outputId": "1c4519c5-3d23-4677-9fa1-0ebdb5949151"
      },
      "execution_count": 44,
      "outputs": [
        {
          "output_type": "stream",
          "name": "stdout",
          "text": [
            "Epoch 1/8\n",
            "1875/1875 [==============================] - 6s 3ms/step - loss: 0.1823 - accuracy: 0.9505\n",
            "Epoch 2/8\n",
            "1875/1875 [==============================] - 6s 3ms/step - loss: 0.1567 - accuracy: 0.9567\n",
            "Epoch 3/8\n",
            "1875/1875 [==============================] - 6s 3ms/step - loss: 0.1337 - accuracy: 0.9630\n",
            "Epoch 4/8\n",
            "1875/1875 [==============================] - 6s 3ms/step - loss: 0.1261 - accuracy: 0.9653\n",
            "Epoch 5/8\n",
            "1875/1875 [==============================] - 6s 3ms/step - loss: 0.1156 - accuracy: 0.9688\n",
            "Epoch 6/8\n",
            "1875/1875 [==============================] - 6s 3ms/step - loss: 0.1029 - accuracy: 0.9722\n",
            "Epoch 7/8\n",
            "1875/1875 [==============================] - 7s 4ms/step - loss: 0.1001 - accuracy: 0.9730\n",
            "Epoch 8/8\n",
            "1875/1875 [==============================] - 6s 3ms/step - loss: 0.0904 - accuracy: 0.9753\n"
          ]
        },
        {
          "output_type": "execute_result",
          "data": {
            "text/plain": [
              "<keras.callbacks.History at 0x7f07fe50a710>"
            ]
          },
          "metadata": {},
          "execution_count": 44
        }
      ]
    },
    {
      "cell_type": "code",
      "source": [
        "model.save('epic_num_reader.model')\n",
        "new_model=tf.keras.models.load_model('epic_num_reader.model')"
      ],
      "metadata": {
        "colab": {
          "base_uri": "https://localhost:8080/"
        },
        "id": "IgRKg7O7wzon",
        "outputId": "728d581e-c32f-481d-d7f9-97231507a7b0"
      },
      "execution_count": 51,
      "outputs": [
        {
          "output_type": "stream",
          "name": "stdout",
          "text": [
            "INFO:tensorflow:Assets written to: epic_num_reader.model/assets\n"
          ]
        }
      ]
    },
    {
      "cell_type": "code",
      "source": [
        "predictions=new_model.predict([x_test])\n",
        "print(predictions)"
      ],
      "metadata": {
        "colab": {
          "base_uri": "https://localhost:8080/"
        },
        "id": "OUdczv0e3FkY",
        "outputId": "0698127a-cefe-4e7c-bc4e-9d3f0278f90d"
      },
      "execution_count": 54,
      "outputs": [
        {
          "output_type": "stream",
          "name": "stdout",
          "text": [
            "[[0.10864313 0.04941267 0.10516322 ... 0.07971922 0.21257314 0.13084567]\n",
            " [0.10864313 0.04941267 0.10516322 ... 0.07971922 0.21257314 0.13084567]\n",
            " [0.10864313 0.04941267 0.10516322 ... 0.07971922 0.21257314 0.13084567]\n",
            " ...\n",
            " [0.10864313 0.04941267 0.10516322 ... 0.07971922 0.21257314 0.13084567]\n",
            " [0.10864313 0.04941267 0.10516322 ... 0.07971922 0.21257314 0.13084567]\n",
            " [0.10864313 0.04941267 0.10516322 ... 0.07971922 0.21257314 0.13084567]]\n"
          ]
        }
      ]
    },
    {
      "cell_type": "code",
      "source": [
        "import numpy as np\n",
        "print(np.argmax(predictions[0]))"
      ],
      "metadata": {
        "colab": {
          "base_uri": "https://localhost:8080/"
        },
        "id": "9GnHRtao3fDI",
        "outputId": "3f644dd0-aa7f-4395-ab7d-ca76cbcc4358"
      },
      "execution_count": 55,
      "outputs": [
        {
          "output_type": "stream",
          "name": "stdout",
          "text": [
            "8\n"
          ]
        }
      ]
    },
    {
      "cell_type": "code",
      "source": [
        "import matplotlib.pyplot as plt\n"
      ],
      "metadata": {
        "id": "1xeitDF539wS"
      },
      "execution_count": 57,
      "outputs": []
    },
    {
      "cell_type": "code",
      "source": [
        "plt.imshow(x_test[0])\n",
        "plt.show()"
      ],
      "metadata": {
        "colab": {
          "base_uri": "https://localhost:8080/",
          "height": 265
        },
        "id": "KAvTWrS_30_Z",
        "outputId": "f46156b8-aaed-4cac-88ea-fbe48abde06b"
      },
      "execution_count": 58,
      "outputs": [
        {
          "output_type": "display_data",
          "data": {
            "image/png": "[encoded data removed]",
            "text/plain": [
              "<Figure size 432x288 with 1 Axes>"
            ]
          },
          "metadata": {
            "needs_background": "light"
          }
        }
      ]
    },
    {
      "cell_type": "code",
      "source": [
        "a=np.array([[1,2],\n",
        "            [3,5]])"
      ],
      "metadata": {
        "id": "EpL5rb0P4JIv"
      },
      "execution_count": 59,
      "outputs": []
    },
    {
      "cell_type": "code",
      "source": [
        "print(a[0])"
      ],
      "metadata": {
        "colab": {
          "base_uri": "https://localhost:8080/"
        },
        "id": "aYM9ls594StM",
        "outputId": "ff36a8c6-1efb-4ec8-8c65-e7be3b7e3a77"
      },
      "execution_count": 61,
      "outputs": [
        {
          "output_type": "stream",
          "name": "stdout",
          "text": [
            "[1 2]\n"
          ]
        }
      ]
    },
    {
      "cell_type": "code",
      "source": [
        "b=np.array([[[1,2],\n",
        "             [3,4],\n",
        "             [4,5]],\n",
        "            [[6,7],\n",
        "             [7,8],\n",
        "             [8,9]]])"
      ],
      "metadata": {
        "id": "twgdFrad4XNM"
      },
      "execution_count": 63,
      "outputs": []
    },
    {
      "cell_type": "code",
      "source": [
        "print(b[0])"
      ],
      "metadata": {
        "colab": {
          "base_uri": "https://localhost:8080/"
        },
        "id": "gN1aNhzw4u-m",
        "outputId": "83702a90-d471-4d3b-8765-96b53b84288b"
      },
      "execution_count": 64,
      "outputs": [
        {
          "output_type": "stream",
          "name": "stdout",
          "text": [
            "[[1 2]\n",
            " [3 4]\n",
            " [4 5]]\n"
          ]
        }
      ]
    }
  ]
}